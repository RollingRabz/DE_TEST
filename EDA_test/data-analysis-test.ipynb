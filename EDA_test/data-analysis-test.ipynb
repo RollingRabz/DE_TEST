{
 "cells": [
  {
   "cell_type": "markdown",
   "metadata": {},
   "source": [
    "# Data Analysis Test\n",
    "\n",
    "Use file `./ref/crop_data.csv` for input\n",
    "\n",
    "Use `pandas` lib\n",
    "\n",
    "Write your code and display readable result"
   ]
  },
  {
   "cell_type": "code",
   "execution_count": 1,
   "metadata": {
    "execution": {
     "iopub.execute_input": "2024-11-27T05:51:34.010451Z",
     "iopub.status.busy": "2024-11-27T05:51:34.009368Z",
     "iopub.status.idle": "2024-11-27T05:51:34.441411Z",
     "shell.execute_reply": "2024-11-27T05:51:34.440287Z",
     "shell.execute_reply.started": "2024-11-27T05:51:34.010389Z"
    },
    "trusted": true
   },
   "outputs": [],
   "source": [
    "import pandas as pd"
   ]
  },
  {
   "cell_type": "code",
   "execution_count": null,
   "metadata": {
    "execution": {
     "iopub.execute_input": "2024-11-27T05:51:34.444169Z",
     "iopub.status.busy": "2024-11-27T05:51:34.443558Z",
     "iopub.status.idle": "2024-11-27T05:51:34.548401Z",
     "shell.execute_reply": "2024-11-27T05:51:34.547077Z",
     "shell.execute_reply.started": "2024-11-27T05:51:34.444115Z"
    },
    "trusted": true
   },
   "outputs": [
    {
     "name": "stdout",
     "output_type": "stream",
     "text": [
      "<class 'pandas.core.frame.DataFrame'>\n",
      "RangeIndex: 11914 entries, 0 to 11913\n",
      "Data columns (total 7 columns):\n",
      " #   Column            Non-Null Count  Dtype  \n",
      "---  ------            --------------  -----  \n",
      " 0   crop_year         11914 non-null  object \n",
      " 1   year              11914 non-null  int64  \n",
      " 2   product           11914 non-null  object \n",
      " 3   province          11914 non-null  object \n",
      " 4   area_plant_rai    11769 non-null  float64\n",
      " 5   area_harvest_rai  11728 non-null  float64\n",
      " 6   production_ton    11692 non-null  float64\n",
      "dtypes: float64(3), int64(1), object(3)\n",
      "memory usage: 651.7+ KB\n"
     ]
    }
   ],
   "source": [
    "# read csv file\n",
    "\n",
    "df = pd.read_csv(\"D:/git/DE_TEST/ref/crop_data.csv\")\n",
    "df.info()"
   ]
  },
  {
   "cell_type": "markdown",
   "metadata": {},
   "source": [
    "### Example Question\n",
    "\n",
    "How many \"ยางพารา\" produced in whole country (\"ทั้งประเทศ\")"
   ]
  },
  {
   "cell_type": "code",
   "execution_count": 3,
   "metadata": {
    "execution": {
     "iopub.execute_input": "2024-11-27T05:51:34.549966Z",
     "iopub.status.busy": "2024-11-27T05:51:34.549648Z",
     "iopub.status.idle": "2024-11-27T05:51:34.565910Z",
     "shell.execute_reply": "2024-11-27T05:51:34.564693Z",
     "shell.execute_reply.started": "2024-11-27T05:51:34.549932Z"
    },
    "trusted": true
   },
   "outputs": [
    {
     "data": {
      "text/plain": [
       "47686839.0"
      ]
     },
     "execution_count": 3,
     "metadata": {},
     "output_type": "execute_result"
    }
   ],
   "source": [
    "# How many \"ยางพารา\" produced in whole country (\"ทั้งประเทศ\")\n",
    "new_df = df.loc[\n",
    "    (df[\"product\"] == \"ยางพารา\" ) &\n",
    "    (df[\"province\"] == \"ทั้งประเทศ\") \n",
    "]\n",
    "sum(new_df[\"production_ton\"])"
   ]
  },
  {
   "cell_type": "markdown",
   "metadata": {},
   "source": [
    "### Question 1\n",
    "\n",
    "How many \"ข้าวนาปี\" produced in \"ยะลา\" between year 2550 - 2553"
   ]
  },
  {
   "cell_type": "code",
   "execution_count": 4,
   "metadata": {
    "execution": {
     "iopub.execute_input": "2024-11-27T05:51:34.568693Z",
     "iopub.status.busy": "2024-11-27T05:51:34.568344Z",
     "iopub.status.idle": "2024-11-27T05:51:34.585211Z",
     "shell.execute_reply": "2024-11-27T05:51:34.583755Z",
     "shell.execute_reply.started": "2024-11-27T05:51:34.568659Z"
    },
    "trusted": true
   },
   "outputs": [
    {
     "name": "stdout",
     "output_type": "stream",
     "text": [
      "ข้าวนาปี produced in ยะลา between year 2550 - 2553 is 87707.0 ตัน\n"
     ]
    }
   ],
   "source": [
    "Q1_df = df.loc[\n",
    "    (df[\"product\"] == \"ข้าวนาปี\" ) &\n",
    "    (df[\"province\"] == \"ยะลา\") &\n",
    "    (df['year'] >= 2550) & \n",
    "    (df['year'] <= 2553)\n",
    "]\n",
    "Ans_Q1 = sum(Q1_df[\"production_ton\"])\n",
    "print('ข้าวนาปี produced in ยะลา between year 2550 - 2553 is',Ans_Q1, 'ตัน')"
   ]
  },
  {
   "cell_type": "markdown",
   "metadata": {},
   "source": [
    "### Question 2\n",
    "\n",
    "Calculate harvest rate of \"ข้าวนาปี\" in whole country\n",
    "\n",
    "_harvest rate = area_harvest_rai / area_plant_rai_"
   ]
  },
  {
   "cell_type": "code",
   "execution_count": 5,
   "metadata": {
    "execution": {
     "iopub.execute_input": "2024-11-27T05:51:34.587272Z",
     "iopub.status.busy": "2024-11-27T05:51:34.586852Z",
     "iopub.status.idle": "2024-11-27T05:51:34.601511Z",
     "shell.execute_reply": "2024-11-27T05:51:34.600248Z",
     "shell.execute_reply.started": "2024-11-27T05:51:34.587234Z"
    },
    "trusted": true
   },
   "outputs": [
    {
     "name": "stdout",
     "output_type": "stream",
     "text": [
      "Area harvest of ข้าวนาปี in whole country is 730340255.0 ไร่\n",
      "Area plant of ข้าวนาปี in whole country is 783456906.0 ไร่\n",
      "Harvest rate of ข้าวนาปี in whole country is ร้อยละ 0.9322022046225986\n"
     ]
    }
   ],
   "source": [
    "# Write you code and display question 2 result here.\n",
    "# replace with your code\n",
    "Q2_df = df.loc[\n",
    "    (df[\"product\"] == \"ข้าวนาปี\" ) &\n",
    "    (df[\"province\"] == \"ทั้งประเทศ\")\n",
    "]\n",
    "area_plant_rai = sum(Q2_df[\"area_plant_rai\"])\n",
    "area_harvest_rai = sum(Q2_df[\"area_harvest_rai\"])\n",
    "harvest_rate = area_harvest_rai / area_plant_rai\n",
    "\n",
    "print('Area harvest of ข้าวนาปี in whole country is', area_harvest_rai, 'ไร่')\n",
    "print('Area plant of ข้าวนาปี in whole country is', area_plant_rai, 'ไร่')\n",
    "print('Harvest rate of ข้าวนาปี in whole country is ร้อยละ', harvest_rate)"
   ]
  },
  {
   "cell_type": "markdown",
   "metadata": {},
   "source": [
    "### Question 3\n",
    "\n",
    "Calculate total profit of \"ข้าวโพดฝักอ่อน\" produced in \"ภาคเหนือ\" from year 2555 to 2562\n",
    "- profit rate in year 2555 - year 2559 is 50% (selling price is 50THB/kg.)\n",
    "- profit rate in year 2560 - year 2562 is 30% (selling price is 120THB/kg.)\n",
    "- assume all product was sold out every year."
   ]
  },
  {
   "cell_type": "code",
   "execution_count": 6,
   "metadata": {
    "execution": {
     "iopub.execute_input": "2024-11-27T05:51:34.603837Z",
     "iopub.status.busy": "2024-11-27T05:51:34.603432Z",
     "iopub.status.idle": "2024-11-27T05:51:34.624173Z",
     "shell.execute_reply": "2024-11-27T05:51:34.622963Z",
     "shell.execute_reply.started": "2024-11-27T05:51:34.603802Z"
    },
    "trusted": true
   },
   "outputs": [
    {
     "name": "stdout",
     "output_type": "stream",
     "text": [
      "Total profit of ข้าวโพดฝักอ่อน produced in ภาคเหนือ from year 2555 to 2562 is 5076935000.0 THB\n"
     ]
    }
   ],
   "source": [
    "# Write you code and display question 3 result here.\n",
    "Q3_df = df[\n",
    "    (df[\"product\"] == \"ข้าวโพดฝักอ่อน\" ) &\n",
    "    (df[\"province\"] == \"ภาคเหนือ\") &\n",
    "    (df['year'] >= 2555) & \n",
    "    (df['year'] <= 2562)\n",
    "].copy()\n",
    "Q3_df = Q3_df.reset_index(drop=True)\n",
    "\n",
    "Q3_df['profit_thb'] = Q3_df.apply(\n",
    "    lambda row: row['production_ton'] * 1000 * 50 * 0.5 if 2555 <= row['year'] <= 2559\n",
    "    else row['production_ton'] * 1000 * 120 * 0.3 if 2560 <= row['year'] <= 2562\n",
    "    else 0,  # return 0 f year out of range\n",
    "    axis=1\n",
    ")\n",
    "\n",
    "Total_profit_Q3 = sum(Q3_df[\"profit_thb\"])\n",
    "print('Total profit of ข้าวโพดฝักอ่อน produced in ภาคเหนือ from year 2555 to 2562 is', Total_profit_Q3, 'THB')"
   ]
  },
  {
   "cell_type": "markdown",
   "metadata": {},
   "source": [
    "### Question 4\n",
    "\n",
    "Form question 3, display the dataframe with 'year', 'production_ton', 'income', 'profit_thb' column"
   ]
  },
  {
   "cell_type": "code",
   "execution_count": 7,
   "metadata": {
    "execution": {
     "iopub.execute_input": "2024-11-27T05:51:34.626159Z",
     "iopub.status.busy": "2024-11-27T05:51:34.625721Z",
     "iopub.status.idle": "2024-11-27T05:51:34.649596Z",
     "shell.execute_reply": "2024-11-27T05:51:34.648392Z",
     "shell.execute_reply.started": "2024-11-27T05:51:34.626112Z"
    },
    "trusted": true
   },
   "outputs": [
    {
     "name": "stdout",
     "output_type": "stream",
     "text": [
      "   year  production_ton        income   profit_thb\n",
      "0  2555         24741.0  1.237050e+09  618525000.0\n",
      "1  2556         25371.0  1.268550e+09  634275000.0\n",
      "2  2557         21788.0  1.089400e+09  544700000.0\n",
      "3  2558         20499.0  1.024950e+09  512475000.0\n",
      "4  2559         19332.0  9.666000e+08  483300000.0\n",
      "5  2560         21329.0  2.559480e+09  767844000.0\n",
      "6  2561         21757.0  2.610840e+09  783252000.0\n",
      "7  2562         20349.0  2.441880e+09  732564000.0\n"
     ]
    }
   ],
   "source": [
    "# Write you code and display question 4 result here.\n",
    "Q4_df = Q3_df.copy()\n",
    "Q4_df['income'] = Q4_df.apply(\n",
    "    lambda row: row['production_ton'] * 1000 * 50 if 2555 <= row['year'] <= 2559\n",
    "    else row['production_ton'] * 1000 * 120 if 2560 <= row['year'] <= 2562\n",
    "    else 0,  # return 0 f year out of range\n",
    "    axis=1\n",
    ")\n",
    "print(Q4_df[['year', 'production_ton', 'income', 'profit_thb']])"
   ]
  },
  {
   "cell_type": "markdown",
   "metadata": {},
   "source": [
    "### Question 5\n",
    "\n",
    "We plan to invest in growing soybeans (ถั่วเหลือง) which province should we invest.\n",
    "\n",
    "We looking for\n",
    "- high protential area (high havest_rate)\n",
    "- we want market share only 20% but production_ton should be more than 2000 in the past (2550 - 2562)\n"
   ]
  },
  {
   "cell_type": "code",
   "execution_count": 8,
   "metadata": {
    "execution": {
     "iopub.execute_input": "2024-11-27T05:51:34.651466Z",
     "iopub.status.busy": "2024-11-27T05:51:34.651115Z",
     "iopub.status.idle": "2024-11-27T05:51:34.687427Z",
     "shell.execute_reply": "2024-11-27T05:51:34.686255Z",
     "shell.execute_reply.started": "2024-11-27T05:51:34.651433Z"
    },
    "trusted": true
   },
   "outputs": [
    {
     "name": "stdout",
     "output_type": "stream",
     "text": [
      "Should invest in province แม่ฮ่องสอน \n",
      "\n",
      "      province  total_production  avg_harvest_rate  market_share\n",
      "36  แม่ฮ่องสอน        216298.000              0.99    43259.6000\n",
      "35        แพร่        124649.000              0.99    24929.8000\n",
      "31    เชียงราย         68852.000              0.99    13770.4000\n",
      "5   ฉะเชิงเทรา          8038.000              0.99     1607.6000\n",
      "21       ลำพูน          3471.967              0.99      694.3934\n"
     ]
    }
   ],
   "source": [
    "# Write you code and display question 5 result here.\n",
    "# filter year and product\n",
    "Q5_df = df[\n",
    "    (df['product'] == \"ถั่วเหลือง\") &\n",
    "    (df['year'] >= 2550) &\n",
    "    (df['year'] <= 2562)\n",
    "].copy()\n",
    "\n",
    "# add column harvest_rate\n",
    "Q5_df['harvest_rate'] = Q5_df['area_harvest_rai'] / Q5_df['area_plant_rai']\n",
    "\n",
    "# Group the dataframe by province and add total_production, avg_harvest_rate column\n",
    "Q5_df = Q5_df.groupby('province').agg(\n",
    "    total_production=('production_ton', 'sum'),\n",
    "    avg_harvest_rate=('harvest_rate', 'mean')\n",
    ").reset_index()\n",
    "\n",
    "# add column market share 20%\n",
    "Q5_df['market_share'] = Q5_df['total_production'] * 0.2\n",
    "\n",
    "#round column to two decimal for easier reading\n",
    "Q5_df['avg_harvest_rate'] = Q5_df['avg_harvest_rate'].round(2)\n",
    "\n",
    "#filter on given condition\n",
    "Q5_df = Q5_df[\n",
    "    (Q5_df['total_production'] > 2000) &\n",
    "    (Q5_df['avg_harvest_rate'] > 0)\n",
    "].sort_values(by=['avg_harvest_rate','market_share'], ascending=False)\n",
    "\n",
    "print('Should invest in province',Q5_df['province'].iloc[0],'\\n')\n",
    "print(Q5_df.head(5))"
   ]
  }
 ],
 "metadata": {
  "kaggle": {
   "accelerator": "none",
   "dataSources": [
    {
     "datasetId": 6141848,
     "sourceId": 9981229,
     "sourceType": "datasetVersion"
    }
   ],
   "dockerImageVersionId": 30786,
   "isGpuEnabled": false,
   "isInternetEnabled": true,
   "language": "python",
   "sourceType": "notebook"
  },
  "kernelspec": {
   "display_name": "Python 3",
   "language": "python",
   "name": "python3"
  },
  "language_info": {
   "codemirror_mode": {
    "name": "ipython",
    "version": 3
   },
   "file_extension": ".py",
   "mimetype": "text/x-python",
   "name": "python",
   "nbconvert_exporter": "python",
   "pygments_lexer": "ipython3",
   "version": "3.10.14"
  }
 },
 "nbformat": 4,
 "nbformat_minor": 4
}
